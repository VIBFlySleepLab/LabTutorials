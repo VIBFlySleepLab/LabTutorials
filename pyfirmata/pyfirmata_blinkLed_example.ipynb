{
 "cells": [
  {
   "cell_type": "code",
   "execution_count": 1,
   "metadata": {},
   "outputs": [],
   "source": [
    "from IPython.display import clear_output"
   ]
  },
  {
   "cell_type": "markdown",
   "metadata": {},
   "source": [
    "# Basic pyfirmata tutorial\n",
    "\n",
    "This notebook explains how a basic BLINK LED example in Python with the pyfirmata module works and is structured."
   ]
  },
  {
   "cell_type": "markdown",
   "metadata": {},
   "source": [
    "## ESSENTIAL Preload the board with the StandardFirmata sketch.\n",
    "Otherwise Python does not throw errors, but nothing happens on the board!!!!"
   ]
  },
  {
   "cell_type": "markdown",
   "metadata": {},
   "source": [
    "### Via GUI\n",
    "(IDE version 1.8.8). Probably identical on other versions, but could be slightly different\n",
    "1. Click in File > Examples > Firmata > StandardFirmata\n",
    "2. The sketch opens\n",
    "3. Upload the sketch using the arrow pointing to the right, on the right of the tick icon on the top left corner\n",
    "4. Wait till you get the \"Done uploading\" message on the bottom (a few seconds). The built-in LEDs in the Arduino should blink a few times.\n",
    "\n",
    "### Via CLI\n",
    "The code below works if the OS is Linux, Arduino IDE is installed via umake, you are using Arduino UNO and it is under /dev/ttyACM0.\n",
    "* If not installed via umake, you just need to find where the path to the sketch, which means you need to find where the arduino directory is. That dir should contain libraries/Firmata/examples...\n",
    "* If you are on Windows, sorry but CLIs are shitty :-)"
   ]
  },
  {
   "cell_type": "code",
   "execution_count": 2,
   "metadata": {},
   "outputs": [
    {
     "name": "stdout",
     "output_type": "stream",
     "text": [
      "Sketch uses 12506 bytes (38%) of program storage space. Maximum is 32256 bytes.\n",
      "Global variables use 1101 bytes (53%) of dynamic memory, leaving 947 bytes for local variables. Maximum is 2048 bytes.\n"
     ]
    },
    {
     "name": "stderr",
     "output_type": "stream",
     "text": [
      "Picked up JAVA_TOOL_OPTIONS: \n",
      "Loading configuration...\n",
      "Initializing packages...\n",
      "Preparing boards...\n",
      "Verifying...\n",
      "Uploading...\n"
     ]
    }
   ],
   "source": [
    "%%bash\n",
    "# ~/.local/share/umake/bin/arduino\n",
    "# pointer to the sketch\n",
    "# --upload ~/.local/share/umake/ide/arduino/libraries/Firmata/examples/StandardFirmata/StandardFirmata.ino\n",
    "# what type of board?\n",
    "# --board arduino:avr:uno\n",
    "# where is the board?\n",
    "# --port /dev/ttyACM0\n",
    "~/.local/share/umake/bin/arduino --upload ~/.local/share/umake/ide/arduino/libraries/Firmata/examples/StandardFirmata/StandardFirmata.ino --board arduino:avr:uno --port /dev/ttyACM0"
   ]
  },
  {
   "cell_type": "markdown",
   "metadata": {},
   "source": [
    "## Load modules pyfirmata and time\n",
    "\n",
    "* pyfirmata to control Arduino boards\n",
    "* time to make Python sleep in `for` loops"
   ]
  },
  {
   "cell_type": "code",
   "execution_count": 3,
   "metadata": {
    "collapsed": true
   },
   "outputs": [],
   "source": [
    "from pyfirmata import Arduino\n",
    "import time"
   ]
  },
  {
   "cell_type": "markdown",
   "metadata": {},
   "source": [
    "## ESSENTIAL Tell Python and pyfirmata where is the Arduino board connected\n",
    "\n",
    "\n",
    "**Linux**:\n",
    "    * The board will be on port /dev/ttyACM0\n",
    "    * If 1 board was already connected after the last reboot of the computer, then the new board is under /dev/tyACM1\n",
    "    * If 2 boards have already been connected, ACM2, and so on\n",
    "    \n",
    "**Windows**"
   ]
  },
  {
   "cell_type": "code",
   "execution_count": 6,
   "metadata": {
    "collapsed": true
   },
   "outputs": [],
   "source": [
    "linux_port = \"/dev/ttyACM1\""
   ]
  },
  {
   "cell_type": "markdown",
   "metadata": {},
   "source": [
    "## Create a board object containg all the methods that provide the pyfirmata functionality\n",
    "i.e. we will control the Arduino board by calling methods (functions) defined within this object\n",
    "`Arduino` is used with Arduino Uno boards, `ArduinoMega`with Arduino Mega, and so on. A complete list of the different Arduino classes is available here:\n",
    "https://github.com/tino/pyFirmata/blob/master/pyfirmata/__init__.py\n",
    "\n",
    "\n"
   ]
  },
  {
   "cell_type": "code",
   "execution_count": 7,
   "metadata": {
    "collapsed": true
   },
   "outputs": [],
   "source": [
    "board = Arduino(linux_port)"
   ]
  },
  {
   "cell_type": "markdown",
   "metadata": {},
   "source": [
    "## Run a BLINK LED Python program\n",
    "* This while loop while make the built-in LED labeled as \"L\" in Arduino UNO go on and off every half a second.\n",
    "* The builtin LED is conected to pin 13, but the same effect can be achieved by connecting a 1.5 kOhm resistor and a LED in series to pin 13 and GND\n",
    "* Stop the while loop by stopping Python:\n",
    "    * Control C in a Python interactive session in a console\n",
    "    * Click the square button on the toolbar in the jupyter-lab session \n",
    "* An error is produced in both cases, but it's fine, it's just Python complaining you stopped it! The board is completely fine :). And you are done with the tutorial!"
   ]
  },
  {
   "cell_type": "code",
   "execution_count": 8,
   "metadata": {},
   "outputs": [
    {
     "ename": "KeyboardInterrupt",
     "evalue": "",
     "output_type": "error",
     "traceback": [
      "\u001b[0;31m---------------------------------------------------------------------------\u001b[0m",
      "\u001b[0;31mKeyboardInterrupt\u001b[0m                         Traceback (most recent call last)",
      "\u001b[0;32m<ipython-input-8-f40c8cd11c66>\u001b[0m in \u001b[0;36m<module>\u001b[0;34m\u001b[0m\n\u001b[1;32m      9\u001b[0m     \u001b[0;31m# Turn off (0) the LED for half second\u001b[0m\u001b[0;34m\u001b[0m\u001b[0;34m\u001b[0m\u001b[0;34m\u001b[0m\u001b[0m\n\u001b[1;32m     10\u001b[0m     \u001b[0mboard\u001b[0m\u001b[0;34m.\u001b[0m\u001b[0mdigital\u001b[0m\u001b[0;34m[\u001b[0m\u001b[0;36m13\u001b[0m\u001b[0;34m]\u001b[0m\u001b[0;34m.\u001b[0m\u001b[0mwrite\u001b[0m\u001b[0;34m(\u001b[0m\u001b[0;36m0\u001b[0m\u001b[0;34m)\u001b[0m\u001b[0;34m\u001b[0m\u001b[0;34m\u001b[0m\u001b[0m\n\u001b[0;32m---> 11\u001b[0;31m     \u001b[0mtime\u001b[0m\u001b[0;34m.\u001b[0m\u001b[0msleep\u001b[0m\u001b[0;34m(\u001b[0m\u001b[0;36m0.5\u001b[0m\u001b[0;34m)\u001b[0m\u001b[0;34m\u001b[0m\u001b[0;34m\u001b[0m\u001b[0m\n\u001b[0m\u001b[1;32m     12\u001b[0m \u001b[0;34m\u001b[0m\u001b[0m\n\u001b[1;32m     13\u001b[0m     \u001b[0;31m# Print the iteration index\u001b[0m\u001b[0;34m\u001b[0m\u001b[0;34m\u001b[0m\u001b[0;34m\u001b[0m\u001b[0m\n",
      "\u001b[0;31mKeyboardInterrupt\u001b[0m: "
     ]
    }
   ],
   "source": [
    "i=0\n",
    "while True:\n",
    "    # Not required, just to count the iterations on one line\n",
    "    clear_output(wait=True)\n",
    "\n",
    "    # Turn on (1) the LED for half second\n",
    "    board.digital[13].write(1)\n",
    "    time.sleep(0.5)\n",
    "    # Turn off (0) the LED for half second\n",
    "    board.digital[13].write(0)\n",
    "    time.sleep(0.5)\n",
    "    \n",
    "    # Print the iteration index\n",
    "    print(i)\n",
    "    i += 1\n",
    "    # Repeat. Forever."
   ]
  }
 ],
 "metadata": {
  "kernelspec": {
   "display_name": "Arduino",
   "language": "python",
   "name": "arduino"
  },
  "language_info": {
   "codemirror_mode": {
    "name": "ipython",
    "version": 3
   },
   "file_extension": ".py",
   "mimetype": "text/x-python",
   "name": "python",
   "nbconvert_exporter": "python",
   "pygments_lexer": "ipython3",
   "version": "3.6.8"
  }
 },
 "nbformat": 4,
 "nbformat_minor": 2
}
